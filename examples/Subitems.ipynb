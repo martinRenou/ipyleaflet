{
 "cells": [
  {
   "cell_type": "code",
   "execution_count": null,
   "metadata": {},
   "outputs": [],
   "source": [
    "from ipyleaflet import Map, Popup, Marker, Choropleth, MagnifyingGlass, ColormapControl\n",
    "from ipywidgets import HTML\n",
    "import json\n",
    "import pandas as pd\n",
    "from ipywidgets import link, FloatSlider\n",
    "from branca.colormap import linear\n",
    "center = (43, -100)\n",
    "zoom = 4"
   ]
  },
  {
   "cell_type": "code",
   "execution_count": null,
   "metadata": {},
   "outputs": [],
   "source": [
    "## Example1 with Chropleth layer\n",
    "geo_json_data = json.load(open(\"us-states.json\"))\n",
    "m1 = Map(center=center, zoom=zoom)\n",
    "unemployment = pd.read_csv(\"US_Unemployment_Oct2012.csv\")\n",
    "unemployment = dict(\n",
    "    zip(unemployment[\"State\"].tolist(), unemployment[\"Unemployment\"].tolist())\n",
    ")\n",
    "message1 = HTML()\n",
    "message1.value = \"Try clicking the marker!\"\n",
    "\n",
    "popup1 = Popup(\n",
    "    location=center,\n",
    "    child=message1,\n",
    "    close_button=False,\n",
    "    auto_close=False,\n",
    "    close_on_escape_key=False\n",
    ")\n",
    "\n",
    "layer1 = Choropleth(\n",
    "    geo_data=geo_json_data,\n",
    "    choro_data=unemployment,\n",
    "    colormap=linear.YlOrRd_04,\n",
    "    style={\"fillOpacity\": 0.8, \"dashArray\": \"5, 5\"},\n",
    "    subitems= (popup1,)\n",
    ")"
   ]
  },
  {
   "cell_type": "code",
   "execution_count": null,
   "metadata": {},
   "outputs": [],
   "source": [
    "magnifying_glass1 = MagnifyingGlass(layers=[layer1], zoom_offset=1)\n",
    "colormap_control1 = ColormapControl(\n",
    "    caption='Unemployment rate',\n",
    "    colormap=layer1.colormap,\n",
    "    value_min=layer1.value_min,\n",
    "    value_max=layer1.value_max,\n",
    "    position='topright',\n",
    "    transparent_bg=True\n",
    ")"
   ]
  },
  {
   "cell_type": "code",
   "execution_count": null,
   "metadata": {},
   "outputs": [],
   "source": [
    "layer1.subitems = layer1.subitems+(colormap_control1, magnifying_glass1)\n",
    "print('layer1.subitems :', len(layer1.subitems))\n",
    "m1.add(layer1)"
   ]
  },
  {
   "cell_type": "code",
   "execution_count": null,
   "metadata": {},
   "outputs": [],
   "source": [
    "# Example2 with a basemap\n",
    "from ipyleaflet import Map, Marker, AwesomeIcon, basemaps, basemap_to_tiles\n",
    "center = (40.730610, -73.935242)\n",
    "zoom =10\n",
    "m2 = Map(center=center, zoom=zoom)\n",
    "icon1 = AwesomeIcon(\n",
    "    name='gear',\n",
    "    marker_color='blue',\n",
    "    icon_color='darkblue',\n",
    "    spin=True\n",
    ")\n",
    "\n",
    "marker1 = Marker(icon=icon1, location=(center[0], center[1] - 0.25))\n",
    "\n",
    "icon2 = AwesomeIcon(\n",
    "    name='gear',\n",
    "    marker_color='green',\n",
    "    icon_color='darkgreen',\n",
    "    spin=True\n",
    ")\n",
    "\n",
    "marker2 = Marker(icon=icon2, location=(center[0], center[1] + 0.25))\n",
    "\n",
    "layer2 = basemap_to_tiles(basemaps.Strava.Water, subitems= (marker1, marker2))\n",
    "m2.add(layer2)"
   ]
  },
  {
   "cell_type": "code",
   "execution_count": null,
   "metadata": {},
   "outputs": [],
   "source": [
    "print('len(layer2.subitems):', len(layer2.subitems))"
   ]
  }
 ],
 "metadata": {
  "kernelspec": {
   "display_name": "Python 3 (ipykernel)",
   "language": "python",
   "name": "python3"
  },
  "language_info": {
   "codemirror_mode": {
    "name": "ipython",
    "version": 3
   },
   "file_extension": ".py",
   "mimetype": "text/x-python",
   "name": "python",
   "nbconvert_exporter": "python",
   "pygments_lexer": "ipython3",
   "version": "3.9.13"
  }
 },
 "nbformat": 4,
 "nbformat_minor": 4
}
